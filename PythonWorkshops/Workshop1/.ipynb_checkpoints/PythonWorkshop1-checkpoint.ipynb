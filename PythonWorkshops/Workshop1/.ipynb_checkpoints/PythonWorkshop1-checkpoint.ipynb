{
 "cells": [
  {
   "cell_type": "markdown",
   "metadata": {},
   "source": [
    "Python Workshop 1: basic coding and exploratory data analysis\n",
    "\n",
    "https://colab.research.google.com/"
   ]
  },
  {
   "cell_type": "code",
   "execution_count": null,
   "metadata": {},
   "outputs": [],
   "source": [
    "# With Python, you can do prety much everything you can do in R -- and more! \n",
    "# All in relatively few lines of code\n",
    "# Today we will cover the Python code to achieve results similar to what previous R workshops have focused on\n",
    "# and also explore some Python idiosyncracies and useful functions, tips, and tricks\n",
    "\n",
    "# In the notebook environment, output is displayed directly below the code block it is in \n",
    "print('Hello world!')"
   ]
  },
  {
   "cell_type": "code",
   "execution_count": null,
   "metadata": {},
   "outputs": [],
   "source": [
    "# We actually don't even need to use print() to see our output when using a notebook\n",
    "'Hello world!'"
   ]
  },
  {
   "cell_type": "code",
   "execution_count": null,
   "metadata": {},
   "outputs": [],
   "source": [
    "# Just like R uses packages to extend its base functionality, Python has libraries \n",
    "# Let's import the libraries we will use today -- aliases make calling functions from the library simpler\n",
    "\n",
    "# Importing libraries\n",
    "# import [library] as [alias]\n",
    "import numpy as np\n",
    "import pandas as pd\n",
    "import numpy as np\n",
    "import matplotlib.pyplot as plt"
   ]
  },
  {
   "cell_type": "code",
   "execution_count": null,
   "metadata": {},
   "outputs": [],
   "source": [
    "# Let's save some simple variables \n",
    "# In a notebook, any variable defined like this is accessible in the global environment \n",
    "# (i.e., we can use the value of this variable in any other code block in our notebook)\n",
    "x = 'this is a string'\n",
    "y = 7\n",
    "z = 3.14"
   ]
  },
  {
   "cell_type": "code",
   "execution_count": null,
   "metadata": {},
   "outputs": [],
   "source": [
    "# The type() function tells us the type (i.e., class) of object it considers \n",
    "type(x)\n",
    "type(y)\n",
    "type(z)"
   ]
  },
  {
   "cell_type": "code",
   "execution_count": null,
   "metadata": {},
   "outputs": [],
   "source": [
    "# If we want to have multiple lines of output, we need to print each line \n",
    "# The notebook will otherwise just give us the output of our final line of code \n",
    "# We can also change the datatype of the two numbers to a string so we can print full sentences describing our variables\n",
    "# \\ is the escape character in Python -- use it before quotations to include quotes in your printed string\n",
    "\n",
    "print('\\\"' + x + '\\\" is a ' + str(type(x)) + '.')\n",
    "print('\\\"' + str(y) + '\\\" is a ' + str(type(y)) + '.')\n",
    "print('\\\"' + str(z) + '\\\" is a ' + str(type(z)) + '.')"
   ]
  },
  {
   "cell_type": "code",
   "execution_count": null,
   "metadata": {},
   "outputs": [],
   "source": [
    "# Notice that we copied and pasted several times above\n",
    "# Whenever we are copying and pasting, we are defeating one of the main points of coding: efficiency! \n",
    "\n",
    "# Let's instead make a simple loop to achieve the same output as above in fewer lines \n",
    "# First, we'll put our variables in a list (notice how multiple data types can be in a list)\n",
    "var_list = [x,y,z]\n",
    "type(var_list)"
   ]
  },
  {
   "cell_type": "code",
   "execution_count": null,
   "metadata": {},
   "outputs": [],
   "source": [
    "# Now we'll loop through our list to print the senteces equivalent to what we have above\n",
    "for variable in var_list: \n",
    "    print('\\\"' + str(variable) + '\\\" is a ' + str(type(variable)) + '.')"
   ]
  },
  {
   "cell_type": "code",
   "execution_count": null,
   "metadata": {},
   "outputs": [],
   "source": [
    "# We might want to use this pattern again, so let's make it a function \n",
    "def var_type_phrase(var): \n",
    "    return '\\\"' + str(var) + '\\\" is a ' + str(type(var)) + '.'"
   ]
  },
  {
   "cell_type": "code",
   "execution_count": null,
   "metadata": {},
   "outputs": [],
   "source": [
    "for variable in var_list:\n",
    "    print(var_type_phrase(variable))"
   ]
  },
  {
   "cell_type": "code",
   "execution_count": null,
   "metadata": {},
   "outputs": [],
   "source": [
    "# Let's now take a step back and go over some key Python terms\n",
    "# When we call the type() function, we are seeing what the <class> of an individual <object> is\n",
    "# Individual objects can have <attributes> specific to the object's class \n",
    "# Individual objects can also have <methods> which are defined by the object's class \n",
    "# (think of methods like class-specific functions)\n",
    "\n",
    "# Let's see an example of this\n",
    "# First, make a list of numbers\n",
    "num_list = [1,2,5,8]\n",
    "print(num_list)\n",
    "\n",
    "# Our num_list object is indeed of the list class\n",
    "print(type(num_list))\n",
    "\n",
    "# A max() function exists to find the maximum value of our list \n",
    "# This is NOT a method of the list class -- just a regular function \n",
    "print(max(num_list))\n",
    "print('\\n')\n",
    "\n",
    "# We can change the object type by creating a numpy array out of our list \n",
    "num_array = np.array(num_list)\n",
    "print(num_array)\n",
    "\n",
    "# Let's check the type \n",
    "print(type(num_array))\n",
    "\n",
    "# We can also use the max() function \n",
    "print(max(num_array))\n",
    "\n",
    "# But a max() method also exists for objects of the numpy array class that gives the same result!\n",
    "print(num_array.max())\n",
    "\n",
    "# attributes are more like properties of the object\n",
    "# shape is an attribute of numpy arrays \n",
    "print(num_array.shape)\n",
    "print('\\n')\n",
    "\n",
    "# With methods, we can change attributes \n",
    "num_array_reshaped = num_array.reshape(2,2)\n",
    "print(num_array_reshaped)\n",
    "print(num_array_reshaped.shape)"
   ]
  },
  {
   "cell_type": "code",
   "execution_count": null,
   "metadata": {},
   "outputs": [],
   "source": [
    "# One more more useful Python programming thing before we dive into some data!\n",
    "# Suppose that you have a list of objects and you want to figure out how many even integers there are in that list\n",
    "# The modulo % returns the remainder of y divided by x if given y % x, so if y % 2 == 0, y is even  \n",
    "4 % 2 "
   ]
  },
  {
   "cell_type": "code",
   "execution_count": null,
   "metadata": {},
   "outputs": [],
   "source": [
    "5 % 2"
   ]
  },
  {
   "cell_type": "code",
   "execution_count": null,
   "metadata": {},
   "outputs": [],
   "source": [
    "potential_evens = [2,4,5,1,8,9,48]\n",
    "true_evens = []\n",
    "odds = []\n",
    "\n",
    "for num in potential_evens:\n",
    "    if num % 2 == 0:\n",
    "        true_evens.append(num)\n",
    "    else:\n",
    "        odds.append(num)\n",
    "\n",
    "print(true_evens)\n",
    "print(len(true_evens))\n",
    "print(odds)"
   ]
  },
  {
   "cell_type": "code",
   "execution_count": null,
   "metadata": {},
   "outputs": [],
   "source": [
    "# But in Python, there is an even better, shorter, faster, more \"pythonic\" way to do this!\n",
    "# It's called a list comprehension\n",
    "true_evens = [num for num in potential_evens if num % 2 == 0]\n",
    "true_evens"
   ]
  },
  {
   "cell_type": "code",
   "execution_count": null,
   "metadata": {},
   "outputs": [],
   "source": [
    "# What if, however, our list of potential_evens contains objects that are not even numbers?\n",
    "potential_evens = [2,4,5,1,8,9,48,'bus']\n",
    "true_evens = []\n",
    "not_evens = []\n",
    "\n",
    "for obj in potential_evens:\n",
    "    if obj % 2 == 0:\n",
    "        true_evens.append(obj)\n",
    "    else:\n",
    "        not_evens.append(obj)"
   ]
  },
  {
   "cell_type": "code",
   "execution_count": null,
   "metadata": {},
   "outputs": [],
   "source": [
    "# We can use a try-except statement to deal with an error if it comes up\n",
    "# This is not really possible to do well with a list comprehension \n",
    "potential_evens = [2,4,5,1,8,9,48,'bus']\n",
    "true_evens = []\n",
    "not_evens = []\n",
    "\n",
    "for obj in potential_evens:\n",
    "    try:\n",
    "        if obj % 2 == 0:\n",
    "            true_evens.append(obj)\n",
    "        else:\n",
    "            not_evens.append(obj)\n",
    "    except:\n",
    "        not_evens.append(obj)\n",
    "        \n",
    "print(true_evens)\n",
    "print(not_evens)"
   ]
  },
  {
   "cell_type": "code",
   "execution_count": null,
   "metadata": {},
   "outputs": [],
   "source": [
    "# We will be looking at some Census data on healthcare trends \n",
    "# We can turn this into a nice panel dataset -- there are cross-sectional observations \n",
    "# at regularly spaced (yearly) intervals\n",
    "\n",
    "# Importing data from a csv using the read_csv function from pandas (recall that pd is the pandas alias)\n",
    "df = pd.read_csv('../All_years.csv')\n",
    "\n",
    "# Look at the first five rows with the head() method \n",
    "df.head()"
   ]
  },
  {
   "cell_type": "code",
   "execution_count": null,
   "metadata": {},
   "outputs": [],
   "source": [
    "# If using Google Colab, add this file to your Google Drive:\n",
    "# https://drive.google.com/file/d/1C4H8DUVjaFt2fzXIfOMaa2Pjmd0n5sLe/view\n",
    "\n",
    "# Click through anything that pops up and follow instructions\n",
    "from google.colab import drive\n",
    "drive.mount('/content/drive', force_remount=True)\n",
    "\n",
    "# Make the path after 'drive/MyDrive/' the path to where you have the file stored\n",
    "df = pd.read_csv('drive/MyDrive/Oeconomica/WorkshopMaterials2020-2021/PythonWorkshops/All_years.csv')\n",
    "\n",
    "df.head()"
   ]
  },
  {
   "cell_type": "code",
   "execution_count": null,
   "metadata": {},
   "outputs": [],
   "source": [
    "# We can also look at the first 10 rows if we want \n",
    "df.head(10)"
   ]
  },
  {
   "cell_type": "code",
   "execution_count": null,
   "metadata": {},
   "outputs": [],
   "source": [
    "# Or the last ten \n",
    "df.tail(10)"
   ]
  },
  {
   "cell_type": "code",
   "execution_count": null,
   "metadata": {},
   "outputs": [],
   "source": [
    "# The info() method lists the variables and datatype of each variable\n",
    "df.info()"
   ]
  },
  {
   "cell_type": "code",
   "execution_count": null,
   "metadata": {},
   "outputs": [],
   "source": [
    "# The describe() method gives summary statistics for all relevant variables \n",
    "df.describe()"
   ]
  },
  {
   "cell_type": "code",
   "execution_count": null,
   "metadata": {},
   "outputs": [],
   "source": [
    "# The columns attribute lists the columns of our dataframe \n",
    "# list() will turn the \"list\" that df.columns gives into an actual list object\n",
    "list(df.columns)"
   ]
  },
  {
   "cell_type": "code",
   "execution_count": null,
   "metadata": {},
   "outputs": [],
   "source": [
    "# Let's do something straightforward (conceptually)\n",
    "# We want to know the share of people each year with health insurance \n",
    "# perwt is a person sample weight that tells us how many individuals each \"observation\" represents \n",
    "df['hcovany'] = df['hcovany'].apply(lambda x: x - 1)\n",
    "df['hcovany_wt'] = df['hcovany'] * df['perwt']\n",
    "df.head()"
   ]
  },
  {
   "cell_type": "code",
   "execution_count": null,
   "metadata": {},
   "outputs": [],
   "source": [
    "# Just like we would with dplyr in R, we can use pandas to groupby and summarize variables \n",
    "df_covshare_1 = df.groupby('year')['perwt'].sum()\n",
    "df_covshare_2 = df.groupby('year')['hcovany_wt'].sum()\n",
    "df_covshare = pd.DataFrame([df_covshare_1,df_covshare_2]).T\n",
    "df_covshare.columns = ['population','num_covered']\n",
    "df_covshare['share_covered'] = df_covshare['num_covered'] / df_covshare['population']\n",
    "df_covshare"
   ]
  },
  {
   "cell_type": "code",
   "execution_count": null,
   "metadata": {},
   "outputs": [],
   "source": [
    "# Since we have the year as the index, we can select the column we want to plot as a time series\n",
    "df_covshare['share_covered'].plot()"
   ]
  },
  {
   "cell_type": "code",
   "execution_count": null,
   "metadata": {},
   "outputs": [],
   "source": [
    "# We can add more information \n",
    "plt.style.use('fivethirtyeight')\n",
    "plt.figure(figsize = (12,6))\n",
    "plt.plot('share_covered', data=df_covshare, color = 'navy')\n",
    "plt.xlabel('Year')\n",
    "plt.ylabel('Share of US population with healthcare coverage')\n",
    "plt.title('Health insurance coverage')\n",
    "plt.show()"
   ]
  },
  {
   "cell_type": "code",
   "execution_count": null,
   "metadata": {},
   "outputs": [],
   "source": [
    "# Exercise: \n",
    "# Try on your own to make a function that takes a single variable from the raw df, provides some meaningful \n",
    "# time series summary, and creates a plot, all in one!"
   ]
  }
 ],
 "metadata": {
  "kernelspec": {
   "display_name": "Python 3",
   "language": "python",
   "name": "python3"
  },
  "language_info": {
   "codemirror_mode": {
    "name": "ipython",
    "version": 3
   },
   "file_extension": ".py",
   "mimetype": "text/x-python",
   "name": "python",
   "nbconvert_exporter": "python",
   "pygments_lexer": "ipython3",
   "version": "3.7.6"
  }
 },
 "nbformat": 4,
 "nbformat_minor": 4
}
